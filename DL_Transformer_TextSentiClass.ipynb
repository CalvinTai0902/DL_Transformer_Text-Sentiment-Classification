{
  "cells": [
    {
      "cell_type": "markdown",
      "metadata": {
        "id": "P6Z1Snuk7rIK"
      },
      "source": [
        "# Text Sentiment Classification with Transformer"
      ]
    },
    {
      "cell_type": "markdown",
      "metadata": {
        "id": "5d-Zzebq7rIM"
      },
      "source": [
        "## Overview"
      ]
    },
    {
      "cell_type": "markdown",
      "metadata": {
        "id": "Kc9gd_Wk7rIN"
      },
      "source": [
        "This task is to identifying opinions in text and labeling them as positive, negative, or neutral.\n",
        "\n",
        "We fine-tune a pre-trained language model (BERT) to predict the\u000bsentiment of given tweet."
      ]
    },
    {
      "cell_type": "markdown",
      "metadata": {
        "id": "giUId1Naqacs",
        "tags": []
      },
      "source": [
        "##  Versions of packages\n",
        "`python 3.8.11`, `torch==1.8.2`, `torchvision==0.9.2` and `transformers==4.8.2`."
      ]
    },
    {
      "cell_type": "code",
      "execution_count": 2,
      "metadata": {
        "colab": {
          "base_uri": "https://localhost:8080/"
        },
        "id": "Vuw-gNvjqcYe",
        "outputId": "0a18c316-68b6-4343-b04b-94cd8547df44"
      },
      "outputs": [
        {
          "name": "stdout",
          "output_type": "stream",
          "text": [
            "python 3.7.12 (default, Sep 10 2021, 00:21:48) \n",
            "torch 1.10.0+cu111\n",
            "torchvision 0.11.1+cu111\n",
            "transformers 4.15.0\n"
          ]
        }
      ],
      "source": [
        "import sys\n",
        "import torch\n",
        "import torchvision\n",
        "import transformers\n",
        "print('python', sys.version.split('\\n')[0])\n",
        "print('torch', torch.__version__)\n",
        "print('torchvision', torchvision.__version__)\n",
        "print('transformers', transformers.__version__)"
      ]
    },
    {
      "cell_type": "code",
      "execution_count": 1,
      "metadata": {
        "colab": {
          "base_uri": "https://localhost:8080/"
        },
        "id": "X-Z6kr38Hux_",
        "outputId": "ffc1c22b-8df7-4ebf-aa52-9f3bac6dfcfb"
      },
      "outputs": [
        {
          "name": "stdout",
          "output_type": "stream",
          "text": [
            "Collecting transformers\n",
            "  Downloading transformers-4.15.0-py3-none-any.whl (3.4 MB)\n",
            "\u001b[?25l\r\u001b[K     |                                | 10 kB 25.8 MB/s eta 0:00:01\r\u001b[K     |▏                               | 20 kB 30.0 MB/s eta 0:00:01\r\u001b[K     |▎                               | 30 kB 21.3 MB/s eta 0:00:01\r\u001b[K     |▍                               | 40 kB 17.5 MB/s eta 0:00:01\r\u001b[K     |▌                               | 51 kB 14.4 MB/s eta 0:00:01\r\u001b[K     |▋                               | 61 kB 13.2 MB/s eta 0:00:01\r\u001b[K     |▊                               | 71 kB 12.3 MB/s eta 0:00:01\r\u001b[K     |▉                               | 81 kB 13.5 MB/s eta 0:00:01\r\u001b[K     |▉                               | 92 kB 13.5 MB/s eta 0:00:01\r\u001b[K     |█                               | 102 kB 12.1 MB/s eta 0:00:01\r\u001b[K     |█                               | 112 kB 12.1 MB/s eta 0:00:01\r\u001b[K     |█▏                              | 122 kB 12.1 MB/s eta 0:00:01\r\u001b[K     |█▎                              | 133 kB 12.1 MB/s eta 0:00:01\r\u001b[K     |█▍                              | 143 kB 12.1 MB/s eta 0:00:01\r\u001b[K     |█▌                              | 153 kB 12.1 MB/s eta 0:00:01\r\u001b[K     |█▋                              | 163 kB 12.1 MB/s eta 0:00:01\r\u001b[K     |█▋                              | 174 kB 12.1 MB/s eta 0:00:01\r\u001b[K     |█▊                              | 184 kB 12.1 MB/s eta 0:00:01\r\u001b[K     |█▉                              | 194 kB 12.1 MB/s eta 0:00:01\r\u001b[K     |██                              | 204 kB 12.1 MB/s eta 0:00:01\r\u001b[K     |██                              | 215 kB 12.1 MB/s eta 0:00:01\r\u001b[K     |██▏                             | 225 kB 12.1 MB/s eta 0:00:01\r\u001b[K     |██▎                             | 235 kB 12.1 MB/s eta 0:00:01\r\u001b[K     |██▍                             | 245 kB 12.1 MB/s eta 0:00:01\r\u001b[K     |██▍                             | 256 kB 12.1 MB/s eta 0:00:01\r\u001b[K     |██▌                             | 266 kB 12.1 MB/s eta 0:00:01\r\u001b[K     |██▋                             | 276 kB 12.1 MB/s eta 0:00:01\r\u001b[K     |██▊                             | 286 kB 12.1 MB/s eta 0:00:01\r\u001b[K     |██▉                             | 296 kB 12.1 MB/s eta 0:00:01\r\u001b[K     |███                             | 307 kB 12.1 MB/s eta 0:00:01\r\u001b[K     |███                             | 317 kB 12.1 MB/s eta 0:00:01\r\u001b[K     |███▏                            | 327 kB 12.1 MB/s eta 0:00:01\r\u001b[K     |███▎                            | 337 kB 12.1 MB/s eta 0:00:01\r\u001b[K     |███▎                            | 348 kB 12.1 MB/s eta 0:00:01\r\u001b[K     |███▍                            | 358 kB 12.1 MB/s eta 0:00:01\r\u001b[K     |███▌                            | 368 kB 12.1 MB/s eta 0:00:01\r\u001b[K     |███▋                            | 378 kB 12.1 MB/s eta 0:00:01\r\u001b[K     |███▊                            | 389 kB 12.1 MB/s eta 0:00:01\r\u001b[K     |███▉                            | 399 kB 12.1 MB/s eta 0:00:01\r\u001b[K     |████                            | 409 kB 12.1 MB/s eta 0:00:01\r\u001b[K     |████                            | 419 kB 12.1 MB/s eta 0:00:01\r\u001b[K     |████                            | 430 kB 12.1 MB/s eta 0:00:01\r\u001b[K     |████▏                           | 440 kB 12.1 MB/s eta 0:00:01\r\u001b[K     |████▎                           | 450 kB 12.1 MB/s eta 0:00:01\r\u001b[K     |████▍                           | 460 kB 12.1 MB/s eta 0:00:01\r\u001b[K     |████▌                           | 471 kB 12.1 MB/s eta 0:00:01\r\u001b[K     |████▋                           | 481 kB 12.1 MB/s eta 0:00:01\r\u001b[K     |████▊                           | 491 kB 12.1 MB/s eta 0:00:01\r\u001b[K     |████▉                           | 501 kB 12.1 MB/s eta 0:00:01\r\u001b[K     |████▉                           | 512 kB 12.1 MB/s eta 0:00:01\r\u001b[K     |█████                           | 522 kB 12.1 MB/s eta 0:00:01\r\u001b[K     |█████                           | 532 kB 12.1 MB/s eta 0:00:01\r\u001b[K     |█████▏                          | 542 kB 12.1 MB/s eta 0:00:01\r\u001b[K     |█████▎                          | 552 kB 12.1 MB/s eta 0:00:01\r\u001b[K     |█████▍                          | 563 kB 12.1 MB/s eta 0:00:01\r\u001b[K     |█████▌                          | 573 kB 12.1 MB/s eta 0:00:01\r\u001b[K     |█████▋                          | 583 kB 12.1 MB/s eta 0:00:01\r\u001b[K     |█████▋                          | 593 kB 12.1 MB/s eta 0:00:01\r\u001b[K     |█████▊                          | 604 kB 12.1 MB/s eta 0:00:01\r\u001b[K     |█████▉                          | 614 kB 12.1 MB/s eta 0:00:01\r\u001b[K     |██████                          | 624 kB 12.1 MB/s eta 0:00:01\r\u001b[K     |██████                          | 634 kB 12.1 MB/s eta 0:00:01\r\u001b[K     |██████▏                         | 645 kB 12.1 MB/s eta 0:00:01\r\u001b[K     |██████▎                         | 655 kB 12.1 MB/s eta 0:00:01\r\u001b[K     |██████▍                         | 665 kB 12.1 MB/s eta 0:00:01\r\u001b[K     |██████▌                         | 675 kB 12.1 MB/s eta 0:00:01\r\u001b[K     |██████▌                         | 686 kB 12.1 MB/s eta 0:00:01\r\u001b[K     |██████▋                         | 696 kB 12.1 MB/s eta 0:00:01\r\u001b[K     |██████▊                         | 706 kB 12.1 MB/s eta 0:00:01\r\u001b[K     |██████▉                         | 716 kB 12.1 MB/s eta 0:00:01\r\u001b[K     |███████                         | 727 kB 12.1 MB/s eta 0:00:01\r\u001b[K     |███████                         | 737 kB 12.1 MB/s eta 0:00:01\r\u001b[K     |███████▏                        | 747 kB 12.1 MB/s eta 0:00:01\r\u001b[K     |███████▎                        | 757 kB 12.1 MB/s eta 0:00:01\r\u001b[K     |███████▎                        | 768 kB 12.1 MB/s eta 0:00:01\r\u001b[K     |███████▍                        | 778 kB 12.1 MB/s eta 0:00:01\r\u001b[K     |███████▌                        | 788 kB 12.1 MB/s eta 0:00:01\r\u001b[K     |███████▋                        | 798 kB 12.1 MB/s eta 0:00:01\r\u001b[K     |███████▊                        | 808 kB 12.1 MB/s eta 0:00:01\r\u001b[K     |███████▉                        | 819 kB 12.1 MB/s eta 0:00:01\r\u001b[K     |████████                        | 829 kB 12.1 MB/s eta 0:00:01\r\u001b[K     |████████                        | 839 kB 12.1 MB/s eta 0:00:01\r\u001b[K     |████████                        | 849 kB 12.1 MB/s eta 0:00:01\r\u001b[K     |████████▏                       | 860 kB 12.1 MB/s eta 0:00:01\r\u001b[K     |████████▎                       | 870 kB 12.1 MB/s eta 0:00:01\r\u001b[K     |████████▍                       | 880 kB 12.1 MB/s eta 0:00:01\r\u001b[K     |████████▌                       | 890 kB 12.1 MB/s eta 0:00:01\r\u001b[K     |████████▋                       | 901 kB 12.1 MB/s eta 0:00:01\r\u001b[K     |████████▊                       | 911 kB 12.1 MB/s eta 0:00:01\r\u001b[K     |████████▉                       | 921 kB 12.1 MB/s eta 0:00:01\r\u001b[K     |████████▉                       | 931 kB 12.1 MB/s eta 0:00:01\r\u001b[K     |█████████                       | 942 kB 12.1 MB/s eta 0:00:01\r\u001b[K     |█████████                       | 952 kB 12.1 MB/s eta 0:00:01\r\u001b[K     |█████████▏                      | 962 kB 12.1 MB/s eta 0:00:01\r\u001b[K     |█████████▎                      | 972 kB 12.1 MB/s eta 0:00:01\r\u001b[K     |█████████▍                      | 983 kB 12.1 MB/s eta 0:00:01\r\u001b[K     |█████████▌                      | 993 kB 12.1 MB/s eta 0:00:01\r\u001b[K     |█████████▋                      | 1.0 MB 12.1 MB/s eta 0:00:01\r\u001b[K     |█████████▊                      | 1.0 MB 12.1 MB/s eta 0:00:01\r\u001b[K     |█████████▊                      | 1.0 MB 12.1 MB/s eta 0:00:01\r\u001b[K     |█████████▉                      | 1.0 MB 12.1 MB/s eta 0:00:01\r\u001b[K     |██████████                      | 1.0 MB 12.1 MB/s eta 0:00:01\r\u001b[K     |██████████                      | 1.1 MB 12.1 MB/s eta 0:00:01\r\u001b[K     |██████████▏                     | 1.1 MB 12.1 MB/s eta 0:00:01\r\u001b[K     |██████████▎                     | 1.1 MB 12.1 MB/s eta 0:00:01\r\u001b[K     |██████████▍                     | 1.1 MB 12.1 MB/s eta 0:00:01\r\u001b[K     |██████████▌                     | 1.1 MB 12.1 MB/s eta 0:00:01\r\u001b[K     |██████████▌                     | 1.1 MB 12.1 MB/s eta 0:00:01\r\u001b[K     |██████████▋                     | 1.1 MB 12.1 MB/s eta 0:00:01\r\u001b[K     |██████████▊                     | 1.1 MB 12.1 MB/s eta 0:00:01\r\u001b[K     |██████████▉                     | 1.1 MB 12.1 MB/s eta 0:00:01\r\u001b[K     |███████████                     | 1.1 MB 12.1 MB/s eta 0:00:01\r\u001b[K     |███████████                     | 1.2 MB 12.1 MB/s eta 0:00:01\r\u001b[K     |███████████▏                    | 1.2 MB 12.1 MB/s eta 0:00:01\r\u001b[K     |███████████▎                    | 1.2 MB 12.1 MB/s eta 0:00:01\r\u001b[K     |███████████▎                    | 1.2 MB 12.1 MB/s eta 0:00:01\r\u001b[K     |███████████▍                    | 1.2 MB 12.1 MB/s eta 0:00:01\r\u001b[K     |███████████▌                    | 1.2 MB 12.1 MB/s eta 0:00:01\r\u001b[K     |███████████▋                    | 1.2 MB 12.1 MB/s eta 0:00:01\r\u001b[K     |███████████▊                    | 1.2 MB 12.1 MB/s eta 0:00:01\r\u001b[K     |███████████▉                    | 1.2 MB 12.1 MB/s eta 0:00:01\r\u001b[K     |████████████                    | 1.2 MB 12.1 MB/s eta 0:00:01\r\u001b[K     |████████████                    | 1.3 MB 12.1 MB/s eta 0:00:01\r\u001b[K     |████████████                    | 1.3 MB 12.1 MB/s eta 0:00:01\r\u001b[K     |████████████▏                   | 1.3 MB 12.1 MB/s eta 0:00:01\r\u001b[K     |████████████▎                   | 1.3 MB 12.1 MB/s eta 0:00:01\r\u001b[K     |████████████▍                   | 1.3 MB 12.1 MB/s eta 0:00:01\r\u001b[K     |████████████▌                   | 1.3 MB 12.1 MB/s eta 0:00:01\r\u001b[K     |████████████▋                   | 1.3 MB 12.1 MB/s eta 0:00:01\r\u001b[K     |████████████▊                   | 1.3 MB 12.1 MB/s eta 0:00:01\r\u001b[K     |████████████▉                   | 1.3 MB 12.1 MB/s eta 0:00:01\r\u001b[K     |█████████████                   | 1.4 MB 12.1 MB/s eta 0:00:01\r\u001b[K     |█████████████                   | 1.4 MB 12.1 MB/s eta 0:00:01\r\u001b[K     |█████████████                   | 1.4 MB 12.1 MB/s eta 0:00:01\r\u001b[K     |█████████████▏                  | 1.4 MB 12.1 MB/s eta 0:00:01\r\u001b[K     |█████████████▎                  | 1.4 MB 12.1 MB/s eta 0:00:01\r\u001b[K     |█████████████▍                  | 1.4 MB 12.1 MB/s eta 0:00:01\r\u001b[K     |█████████████▌                  | 1.4 MB 12.1 MB/s eta 0:00:01\r\u001b[K     |█████████████▋                  | 1.4 MB 12.1 MB/s eta 0:00:01\r\u001b[K     |█████████████▊                  | 1.4 MB 12.1 MB/s eta 0:00:01\r\u001b[K     |█████████████▊                  | 1.4 MB 12.1 MB/s eta 0:00:01\r\u001b[K     |█████████████▉                  | 1.5 MB 12.1 MB/s eta 0:00:01\r\u001b[K     |██████████████                  | 1.5 MB 12.1 MB/s eta 0:00:01\r\u001b[K     |██████████████                  | 1.5 MB 12.1 MB/s eta 0:00:01\r\u001b[K     |██████████████▏                 | 1.5 MB 12.1 MB/s eta 0:00:01\r\u001b[K     |██████████████▎                 | 1.5 MB 12.1 MB/s eta 0:00:01\r\u001b[K     |██████████████▍                 | 1.5 MB 12.1 MB/s eta 0:00:01\r\u001b[K     |██████████████▌                 | 1.5 MB 12.1 MB/s eta 0:00:01\r\u001b[K     |██████████████▌                 | 1.5 MB 12.1 MB/s eta 0:00:01\r\u001b[K     |██████████████▋                 | 1.5 MB 12.1 MB/s eta 0:00:01\r\u001b[K     |██████████████▊                 | 1.5 MB 12.1 MB/s eta 0:00:01\r\u001b[K     |██████████████▉                 | 1.6 MB 12.1 MB/s eta 0:00:01\r\u001b[K     |███████████████                 | 1.6 MB 12.1 MB/s eta 0:00:01\r\u001b[K     |███████████████                 | 1.6 MB 12.1 MB/s eta 0:00:01\r\u001b[K     |███████████████▏                | 1.6 MB 12.1 MB/s eta 0:00:01\r\u001b[K     |███████████████▎                | 1.6 MB 12.1 MB/s eta 0:00:01\r\u001b[K     |███████████████▎                | 1.6 MB 12.1 MB/s eta 0:00:01\r\u001b[K     |███████████████▍                | 1.6 MB 12.1 MB/s eta 0:00:01\r\u001b[K     |███████████████▌                | 1.6 MB 12.1 MB/s eta 0:00:01\r\u001b[K     |███████████████▋                | 1.6 MB 12.1 MB/s eta 0:00:01\r\u001b[K     |███████████████▊                | 1.6 MB 12.1 MB/s eta 0:00:01\r\u001b[K     |███████████████▉                | 1.7 MB 12.1 MB/s eta 0:00:01\r\u001b[K     |████████████████                | 1.7 MB 12.1 MB/s eta 0:00:01\r\u001b[K     |████████████████                | 1.7 MB 12.1 MB/s eta 0:00:01\r\u001b[K     |████████████████▏               | 1.7 MB 12.1 MB/s eta 0:00:01\r\u001b[K     |████████████████▏               | 1.7 MB 12.1 MB/s eta 0:00:01\r\u001b[K     |████████████████▎               | 1.7 MB 12.1 MB/s eta 0:00:01\r\u001b[K     |████████████████▍               | 1.7 MB 12.1 MB/s eta 0:00:01\r\u001b[K     |████████████████▌               | 1.7 MB 12.1 MB/s eta 0:00:01\r\u001b[K     |████████████████▋               | 1.7 MB 12.1 MB/s eta 0:00:01\r\u001b[K     |████████████████▊               | 1.8 MB 12.1 MB/s eta 0:00:01\r\u001b[K     |████████████████▉               | 1.8 MB 12.1 MB/s eta 0:00:01\r\u001b[K     |█████████████████               | 1.8 MB 12.1 MB/s eta 0:00:01\r\u001b[K     |█████████████████               | 1.8 MB 12.1 MB/s eta 0:00:01\r\u001b[K     |█████████████████               | 1.8 MB 12.1 MB/s eta 0:00:01\r\u001b[K     |█████████████████▏              | 1.8 MB 12.1 MB/s eta 0:00:01\r\u001b[K     |█████████████████▎              | 1.8 MB 12.1 MB/s eta 0:00:01\r\u001b[K     |█████████████████▍              | 1.8 MB 12.1 MB/s eta 0:00:01\r\u001b[K     |█████████████████▌              | 1.8 MB 12.1 MB/s eta 0:00:01\r\u001b[K     |█████████████████▋              | 1.8 MB 12.1 MB/s eta 0:00:01\r\u001b[K     |█████████████████▊              | 1.9 MB 12.1 MB/s eta 0:00:01\r\u001b[K     |█████████████████▊              | 1.9 MB 12.1 MB/s eta 0:00:01\r\u001b[K     |█████████████████▉              | 1.9 MB 12.1 MB/s eta 0:00:01\r\u001b[K     |██████████████████              | 1.9 MB 12.1 MB/s eta 0:00:01\r\u001b[K     |██████████████████              | 1.9 MB 12.1 MB/s eta 0:00:01\r\u001b[K     |██████████████████▏             | 1.9 MB 12.1 MB/s eta 0:00:01\r\u001b[K     |██████████████████▎             | 1.9 MB 12.1 MB/s eta 0:00:01\r\u001b[K     |██████████████████▍             | 1.9 MB 12.1 MB/s eta 0:00:01\r\u001b[K     |██████████████████▌             | 1.9 MB 12.1 MB/s eta 0:00:01\r\u001b[K     |██████████████████▌             | 1.9 MB 12.1 MB/s eta 0:00:01\r\u001b[K     |██████████████████▋             | 2.0 MB 12.1 MB/s eta 0:00:01\r\u001b[K     |██████████████████▊             | 2.0 MB 12.1 MB/s eta 0:00:01\r\u001b[K     |██████████████████▉             | 2.0 MB 12.1 MB/s eta 0:00:01\r\u001b[K     |███████████████████             | 2.0 MB 12.1 MB/s eta 0:00:01\r\u001b[K     |███████████████████             | 2.0 MB 12.1 MB/s eta 0:00:01\r\u001b[K     |███████████████████▏            | 2.0 MB 12.1 MB/s eta 0:00:01\r\u001b[K     |███████████████████▎            | 2.0 MB 12.1 MB/s eta 0:00:01\r\u001b[K     |███████████████████▍            | 2.0 MB 12.1 MB/s eta 0:00:01\r\u001b[K     |███████████████████▍            | 2.0 MB 12.1 MB/s eta 0:00:01\r\u001b[K     |███████████████████▌            | 2.0 MB 12.1 MB/s eta 0:00:01\r\u001b[K     |███████████████████▋            | 2.1 MB 12.1 MB/s eta 0:00:01\r\u001b[K     |███████████████████▊            | 2.1 MB 12.1 MB/s eta 0:00:01\r\u001b[K     |███████████████████▉            | 2.1 MB 12.1 MB/s eta 0:00:01\r\u001b[K     |████████████████████            | 2.1 MB 12.1 MB/s eta 0:00:01\r\u001b[K     |████████████████████            | 2.1 MB 12.1 MB/s eta 0:00:01\r\u001b[K     |████████████████████▏           | 2.1 MB 12.1 MB/s eta 0:00:01\r\u001b[K     |████████████████████▏           | 2.1 MB 12.1 MB/s eta 0:00:01\r\u001b[K     |████████████████████▎           | 2.1 MB 12.1 MB/s eta 0:00:01\r\u001b[K     |████████████████████▍           | 2.1 MB 12.1 MB/s eta 0:00:01\r\u001b[K     |████████████████████▌           | 2.2 MB 12.1 MB/s eta 0:00:01\r\u001b[K     |████████████████████▋           | 2.2 MB 12.1 MB/s eta 0:00:01\r\u001b[K     |████████████████████▊           | 2.2 MB 12.1 MB/s eta 0:00:01\r\u001b[K     |████████████████████▉           | 2.2 MB 12.1 MB/s eta 0:00:01\r\u001b[K     |█████████████████████           | 2.2 MB 12.1 MB/s eta 0:00:01\r\u001b[K     |█████████████████████           | 2.2 MB 12.1 MB/s eta 0:00:01\r\u001b[K     |█████████████████████           | 2.2 MB 12.1 MB/s eta 0:00:01\r\u001b[K     |█████████████████████▏          | 2.2 MB 12.1 MB/s eta 0:00:01\r\u001b[K     |█████████████████████▎          | 2.2 MB 12.1 MB/s eta 0:00:01\r\u001b[K     |█████████████████████▍          | 2.2 MB 12.1 MB/s eta 0:00:01\r\u001b[K     |█████████████████████▌          | 2.3 MB 12.1 MB/s eta 0:00:01\r\u001b[K     |█████████████████████▋          | 2.3 MB 12.1 MB/s eta 0:00:01\r\u001b[K     |█████████████████████▊          | 2.3 MB 12.1 MB/s eta 0:00:01\r\u001b[K     |█████████████████████▊          | 2.3 MB 12.1 MB/s eta 0:00:01\r\u001b[K     |█████████████████████▉          | 2.3 MB 12.1 MB/s eta 0:00:01\r\u001b[K     |██████████████████████          | 2.3 MB 12.1 MB/s eta 0:00:01\r\u001b[K     |██████████████████████          | 2.3 MB 12.1 MB/s eta 0:00:01\r\u001b[K     |██████████████████████▏         | 2.3 MB 12.1 MB/s eta 0:00:01\r\u001b[K     |██████████████████████▎         | 2.3 MB 12.1 MB/s eta 0:00:01\r\u001b[K     |██████████████████████▍         | 2.3 MB 12.1 MB/s eta 0:00:01\r\u001b[K     |██████████████████████▌         | 2.4 MB 12.1 MB/s eta 0:00:01\r\u001b[K     |██████████████████████▋         | 2.4 MB 12.1 MB/s eta 0:00:01\r\u001b[K     |██████████████████████▋         | 2.4 MB 12.1 MB/s eta 0:00:01\r\u001b[K     |██████████████████████▊         | 2.4 MB 12.1 MB/s eta 0:00:01\r\u001b[K     |██████████████████████▉         | 2.4 MB 12.1 MB/s eta 0:00:01\r\u001b[K     |███████████████████████         | 2.4 MB 12.1 MB/s eta 0:00:01\r\u001b[K     |███████████████████████         | 2.4 MB 12.1 MB/s eta 0:00:01\r\u001b[K     |███████████████████████▏        | 2.4 MB 12.1 MB/s eta 0:00:01\r\u001b[K     |███████████████████████▎        | 2.4 MB 12.1 MB/s eta 0:00:01\r\u001b[K     |███████████████████████▍        | 2.4 MB 12.1 MB/s eta 0:00:01\r\u001b[K     |███████████████████████▍        | 2.5 MB 12.1 MB/s eta 0:00:01\r\u001b[K     |███████████████████████▌        | 2.5 MB 12.1 MB/s eta 0:00:01\r\u001b[K     |███████████████████████▋        | 2.5 MB 12.1 MB/s eta 0:00:01\r\u001b[K     |███████████████████████▊        | 2.5 MB 12.1 MB/s eta 0:00:01\r\u001b[K     |███████████████████████▉        | 2.5 MB 12.1 MB/s eta 0:00:01\r\u001b[K     |████████████████████████        | 2.5 MB 12.1 MB/s eta 0:00:01\r\u001b[K     |████████████████████████        | 2.5 MB 12.1 MB/s eta 0:00:01\r\u001b[K     |████████████████████████▏       | 2.5 MB 12.1 MB/s eta 0:00:01\r\u001b[K     |████████████████████████▏       | 2.5 MB 12.1 MB/s eta 0:00:01\r\u001b[K     |████████████████████████▎       | 2.5 MB 12.1 MB/s eta 0:00:01\r\u001b[K     |████████████████████████▍       | 2.6 MB 12.1 MB/s eta 0:00:01\r\u001b[K     |████████████████████████▌       | 2.6 MB 12.1 MB/s eta 0:00:01\r\u001b[K     |████████████████████████▋       | 2.6 MB 12.1 MB/s eta 0:00:01\r\u001b[K     |████████████████████████▊       | 2.6 MB 12.1 MB/s eta 0:00:01\r\u001b[K     |████████████████████████▉       | 2.6 MB 12.1 MB/s eta 0:00:01\r\u001b[K     |█████████████████████████       | 2.6 MB 12.1 MB/s eta 0:00:01\r\u001b[K     |█████████████████████████       | 2.6 MB 12.1 MB/s eta 0:00:01\r\u001b[K     |█████████████████████████       | 2.6 MB 12.1 MB/s eta 0:00:01\r\u001b[K     |█████████████████████████▏      | 2.6 MB 12.1 MB/s eta 0:00:01\r\u001b[K     |█████████████████████████▎      | 2.7 MB 12.1 MB/s eta 0:00:01\r\u001b[K     |█████████████████████████▍      | 2.7 MB 12.1 MB/s eta 0:00:01\r\u001b[K     |█████████████████████████▌      | 2.7 MB 12.1 MB/s eta 0:00:01\r\u001b[K     |█████████████████████████▋      | 2.7 MB 12.1 MB/s eta 0:00:01\r\u001b[K     |█████████████████████████▊      | 2.7 MB 12.1 MB/s eta 0:00:01\r\u001b[K     |█████████████████████████▉      | 2.7 MB 12.1 MB/s eta 0:00:01\r\u001b[K     |█████████████████████████▉      | 2.7 MB 12.1 MB/s eta 0:00:01\r\u001b[K     |██████████████████████████      | 2.7 MB 12.1 MB/s eta 0:00:01\r\u001b[K     |██████████████████████████      | 2.7 MB 12.1 MB/s eta 0:00:01\r\u001b[K     |██████████████████████████▏     | 2.7 MB 12.1 MB/s eta 0:00:01\r\u001b[K     |██████████████████████████▎     | 2.8 MB 12.1 MB/s eta 0:00:01\r\u001b[K     |██████████████████████████▍     | 2.8 MB 12.1 MB/s eta 0:00:01\r\u001b[K     |██████████████████████████▌     | 2.8 MB 12.1 MB/s eta 0:00:01\r\u001b[K     |██████████████████████████▋     | 2.8 MB 12.1 MB/s eta 0:00:01\r\u001b[K     |██████████████████████████▋     | 2.8 MB 12.1 MB/s eta 0:00:01\r\u001b[K     |██████████████████████████▊     | 2.8 MB 12.1 MB/s eta 0:00:01\r\u001b[K     |██████████████████████████▉     | 2.8 MB 12.1 MB/s eta 0:00:01\r\u001b[K     |███████████████████████████     | 2.8 MB 12.1 MB/s eta 0:00:01\r\u001b[K     |███████████████████████████     | 2.8 MB 12.1 MB/s eta 0:00:01\r\u001b[K     |███████████████████████████▏    | 2.8 MB 12.1 MB/s eta 0:00:01\r\u001b[K     |███████████████████████████▎    | 2.9 MB 12.1 MB/s eta 0:00:01\r\u001b[K     |███████████████████████████▍    | 2.9 MB 12.1 MB/s eta 0:00:01\r\u001b[K     |███████████████████████████▍    | 2.9 MB 12.1 MB/s eta 0:00:01\r\u001b[K     |███████████████████████████▌    | 2.9 MB 12.1 MB/s eta 0:00:01\r\u001b[K     |███████████████████████████▋    | 2.9 MB 12.1 MB/s eta 0:00:01\r\u001b[K     |███████████████████████████▊    | 2.9 MB 12.1 MB/s eta 0:00:01\r\u001b[K     |███████████████████████████▉    | 2.9 MB 12.1 MB/s eta 0:00:01\r\u001b[K     |████████████████████████████    | 2.9 MB 12.1 MB/s eta 0:00:01\r\u001b[K     |████████████████████████████    | 2.9 MB 12.1 MB/s eta 0:00:01\r\u001b[K     |████████████████████████████▏   | 2.9 MB 12.1 MB/s eta 0:00:01\r\u001b[K     |████████████████████████████▏   | 3.0 MB 12.1 MB/s eta 0:00:01\r\u001b[K     |████████████████████████████▎   | 3.0 MB 12.1 MB/s eta 0:00:01\r\u001b[K     |████████████████████████████▍   | 3.0 MB 12.1 MB/s eta 0:00:01\r\u001b[K     |████████████████████████████▌   | 3.0 MB 12.1 MB/s eta 0:00:01\r\u001b[K     |████████████████████████████▋   | 3.0 MB 12.1 MB/s eta 0:00:01\r\u001b[K     |████████████████████████████▊   | 3.0 MB 12.1 MB/s eta 0:00:01\r\u001b[K     |████████████████████████████▉   | 3.0 MB 12.1 MB/s eta 0:00:01\r\u001b[K     |█████████████████████████████   | 3.0 MB 12.1 MB/s eta 0:00:01\r\u001b[K     |█████████████████████████████   | 3.0 MB 12.1 MB/s eta 0:00:01\r\u001b[K     |█████████████████████████████   | 3.1 MB 12.1 MB/s eta 0:00:01\r\u001b[K     |█████████████████████████████▏  | 3.1 MB 12.1 MB/s eta 0:00:01\r\u001b[K     |█████████████████████████████▎  | 3.1 MB 12.1 MB/s eta 0:00:01\r\u001b[K     |█████████████████████████████▍  | 3.1 MB 12.1 MB/s eta 0:00:01\r\u001b[K     |█████████████████████████████▌  | 3.1 MB 12.1 MB/s eta 0:00:01\r\u001b[K     |█████████████████████████████▋  | 3.1 MB 12.1 MB/s eta 0:00:01\r\u001b[K     |█████████████████████████████▊  | 3.1 MB 12.1 MB/s eta 0:00:01\r\u001b[K     |█████████████████████████████▉  | 3.1 MB 12.1 MB/s eta 0:00:01\r\u001b[K     |█████████████████████████████▉  | 3.1 MB 12.1 MB/s eta 0:00:01\r\u001b[K     |██████████████████████████████  | 3.1 MB 12.1 MB/s eta 0:00:01\r\u001b[K     |██████████████████████████████  | 3.2 MB 12.1 MB/s eta 0:00:01\r\u001b[K     |██████████████████████████████▏ | 3.2 MB 12.1 MB/s eta 0:00:01\r\u001b[K     |██████████████████████████████▎ | 3.2 MB 12.1 MB/s eta 0:00:01\r\u001b[K     |██████████████████████████████▍ | 3.2 MB 12.1 MB/s eta 0:00:01\r\u001b[K     |██████████████████████████████▌ | 3.2 MB 12.1 MB/s eta 0:00:01\r\u001b[K     |██████████████████████████████▋ | 3.2 MB 12.1 MB/s eta 0:00:01\r\u001b[K     |██████████████████████████████▋ | 3.2 MB 12.1 MB/s eta 0:00:01\r\u001b[K     |██████████████████████████████▊ | 3.2 MB 12.1 MB/s eta 0:00:01\r\u001b[K     |██████████████████████████████▉ | 3.2 MB 12.1 MB/s eta 0:00:01\r\u001b[K     |███████████████████████████████ | 3.2 MB 12.1 MB/s eta 0:00:01\r\u001b[K     |███████████████████████████████ | 3.3 MB 12.1 MB/s eta 0:00:01\r\u001b[K     |███████████████████████████████▏| 3.3 MB 12.1 MB/s eta 0:00:01\r\u001b[K     |███████████████████████████████▎| 3.3 MB 12.1 MB/s eta 0:00:01\r\u001b[K     |███████████████████████████████▍| 3.3 MB 12.1 MB/s eta 0:00:01\r\u001b[K     |███████████████████████████████▍| 3.3 MB 12.1 MB/s eta 0:00:01\r\u001b[K     |███████████████████████████████▌| 3.3 MB 12.1 MB/s eta 0:00:01\r\u001b[K     |███████████████████████████████▋| 3.3 MB 12.1 MB/s eta 0:00:01\r\u001b[K     |███████████████████████████████▊| 3.3 MB 12.1 MB/s eta 0:00:01\r\u001b[K     |███████████████████████████████▉| 3.3 MB 12.1 MB/s eta 0:00:01\r\u001b[K     |████████████████████████████████| 3.3 MB 12.1 MB/s eta 0:00:01\r\u001b[K     |████████████████████████████████| 3.4 MB 12.1 MB/s \n",
            "\u001b[?25hRequirement already satisfied: numpy>=1.17 in /usr/local/lib/python3.7/dist-packages (from transformers) (1.19.5)\n",
            "Collecting pyyaml>=5.1\n",
            "  Downloading PyYAML-6.0-cp37-cp37m-manylinux_2_5_x86_64.manylinux1_x86_64.manylinux_2_12_x86_64.manylinux2010_x86_64.whl (596 kB)\n",
            "\u001b[K     |████████████████████████████████| 596 kB 59.4 MB/s \n",
            "\u001b[?25hRequirement already satisfied: regex!=2019.12.17 in /usr/local/lib/python3.7/dist-packages (from transformers) (2019.12.20)\n",
            "Requirement already satisfied: packaging>=20.0 in /usr/local/lib/python3.7/dist-packages (from transformers) (21.3)\n",
            "Collecting tokenizers<0.11,>=0.10.1\n",
            "  Downloading tokenizers-0.10.3-cp37-cp37m-manylinux_2_5_x86_64.manylinux1_x86_64.manylinux_2_12_x86_64.manylinux2010_x86_64.whl (3.3 MB)\n",
            "\u001b[K     |████████████████████████████████| 3.3 MB 47.7 MB/s \n",
            "\u001b[?25hRequirement already satisfied: filelock in /usr/local/lib/python3.7/dist-packages (from transformers) (3.4.2)\n",
            "Collecting sacremoses\n",
            "  Downloading sacremoses-0.0.47-py2.py3-none-any.whl (895 kB)\n",
            "\u001b[K     |████████████████████████████████| 895 kB 49.6 MB/s \n",
            "\u001b[?25hRequirement already satisfied: requests in /usr/local/lib/python3.7/dist-packages (from transformers) (2.23.0)\n",
            "Requirement already satisfied: tqdm>=4.27 in /usr/local/lib/python3.7/dist-packages (from transformers) (4.62.3)\n",
            "Requirement already satisfied: importlib-metadata in /usr/local/lib/python3.7/dist-packages (from transformers) (4.10.0)\n",
            "Collecting huggingface-hub<1.0,>=0.1.0\n",
            "  Downloading huggingface_hub-0.4.0-py3-none-any.whl (67 kB)\n",
            "\u001b[K     |████████████████████████████████| 67 kB 5.2 MB/s \n",
            "\u001b[?25hRequirement already satisfied: typing-extensions>=3.7.4.3 in /usr/local/lib/python3.7/dist-packages (from huggingface-hub<1.0,>=0.1.0->transformers) (3.10.0.2)\n",
            "Requirement already satisfied: pyparsing!=3.0.5,>=2.0.2 in /usr/local/lib/python3.7/dist-packages (from packaging>=20.0->transformers) (3.0.6)\n",
            "Requirement already satisfied: zipp>=0.5 in /usr/local/lib/python3.7/dist-packages (from importlib-metadata->transformers) (3.7.0)\n",
            "Requirement already satisfied: certifi>=2017.4.17 in /usr/local/lib/python3.7/dist-packages (from requests->transformers) (2021.10.8)\n",
            "Requirement already satisfied: idna<3,>=2.5 in /usr/local/lib/python3.7/dist-packages (from requests->transformers) (2.10)\n",
            "Requirement already satisfied: chardet<4,>=3.0.2 in /usr/local/lib/python3.7/dist-packages (from requests->transformers) (3.0.4)\n",
            "Requirement already satisfied: urllib3!=1.25.0,!=1.25.1,<1.26,>=1.21.1 in /usr/local/lib/python3.7/dist-packages (from requests->transformers) (1.24.3)\n",
            "Requirement already satisfied: six in /usr/local/lib/python3.7/dist-packages (from sacremoses->transformers) (1.15.0)\n",
            "Requirement already satisfied: joblib in /usr/local/lib/python3.7/dist-packages (from sacremoses->transformers) (1.1.0)\n",
            "Requirement already satisfied: click in /usr/local/lib/python3.7/dist-packages (from sacremoses->transformers) (7.1.2)\n",
            "Installing collected packages: pyyaml, tokenizers, sacremoses, huggingface-hub, transformers\n",
            "  Attempting uninstall: pyyaml\n",
            "    Found existing installation: PyYAML 3.13\n",
            "    Uninstalling PyYAML-3.13:\n",
            "      Successfully uninstalled PyYAML-3.13\n",
            "Successfully installed huggingface-hub-0.4.0 pyyaml-6.0 sacremoses-0.0.47 tokenizers-0.10.3 transformers-4.15.0\n"
          ]
        }
      ],
      "source": [
        "# !pip install transformers"
      ]
    },
    {
      "cell_type": "markdown",
      "metadata": {
        "id": "0a4s_a5D7rIR"
      },
      "source": [
        "## Loading Model and Data"
      ]
    },
    {
      "cell_type": "code",
      "execution_count": 17,
      "metadata": {
        "colab": {
          "base_uri": "https://localhost:8080/"
        },
        "id": "dmGCAevi7rIS",
        "outputId": "b0b2452f-c406-431f-8662-2f5e2be4e471"
      },
      "outputs": [
        {
          "name": "stderr",
          "output_type": "stream",
          "text": [
            "Some weights of the model checkpoint at bert-base-uncased were not used when initializing BertForSequenceClassification: ['cls.predictions.bias', 'cls.predictions.transform.dense.bias', 'cls.predictions.transform.LayerNorm.weight', 'cls.seq_relationship.bias', 'cls.predictions.transform.LayerNorm.bias', 'cls.predictions.decoder.weight', 'cls.seq_relationship.weight', 'cls.predictions.transform.dense.weight']\n",
            "- This IS expected if you are initializing BertForSequenceClassification from the checkpoint of a model trained on another task or with another architecture (e.g. initializing a BertForSequenceClassification model from a BertForPreTraining model).\n",
            "- This IS NOT expected if you are initializing BertForSequenceClassification from the checkpoint of a model that you expect to be exactly identical (initializing a BertForSequenceClassification model from a BertForSequenceClassification model).\n",
            "Some weights of BertForSequenceClassification were not initialized from the model checkpoint at bert-base-uncased and are newly initialized: ['classifier.weight', 'classifier.bias']\n",
            "You should probably TRAIN this model on a down-stream task to be able to use it for predictions and inference.\n"
          ]
        }
      ],
      "source": [
        "from torch import nn\n",
        "from transformers import BertTokenizer, BertForSequenceClassification\n",
        "\n",
        "bert_type = 'bert-base-uncased'\n",
        "tokenizer = BertTokenizer.from_pretrained(bert_type)\n",
        "# create a Bert-extended task (classification)\n",
        "model = BertForSequenceClassification.from_pretrained(bert_type)\n",
        "\n",
        "# finetune from the output from bert to your task\n",
        "model.classifier = nn.Linear(768, 3, bias=True)\n"
      ]
    },
    {
      "cell_type": "code",
      "execution_count": 4,
      "metadata": {
        "id": "70_m4DujUCYf"
      },
      "outputs": [],
      "source": [
        "# model.eval()"
      ]
    },
    {
      "cell_type": "markdown",
      "metadata": {
        "id": "IiMThsYeDa2O"
      },
      "source": [
        "## Dataset\n",
        "We use `twitter_sentiment`dataset."
      ]
    },
    {
      "cell_type": "code",
      "execution_count": 5,
      "metadata": {
        "colab": {
          "base_uri": "https://localhost:8080/"
        },
        "id": "cCXepUIVe5iJ",
        "outputId": "f47a15de-4a42-41cc-e4ba-018c8ffd4c30"
      },
      "outputs": [
        {
          "name": "stdout",
          "output_type": "stream",
          "text": [
            "Mounted at /content/drive\n"
          ]
        }
      ],
      "source": [
        "from google.colab import drive\n",
        "drive.mount('/content/drive')"
      ]
    },
    {
      "cell_type": "code",
      "execution_count": 6,
      "metadata": {
        "id": "OSlTMdxf8Zd7"
      },
      "outputs": [],
      "source": [
        "# !unzip -qq ./drive/MyDrive/twitter_sentiment.zip"
      ]
    },
    {
      "cell_type": "code",
      "execution_count": 18,
      "metadata": {
        "id": "wf5GXTme7rIT"
      },
      "outputs": [],
      "source": [
        "# Utility function to extract text and label from csv file\n",
        "def get_texts(f_name='./twitter_sentiment', mode='train'):\n",
        "    text_list = []\n",
        "    label_list = []\n",
        "    \n",
        "    f_path = os.path.join(f_name, '{}.csv'.format(mode))\n",
        "    with open(f_path) as f:\n",
        "        reader = csv.DictReader(f)\n",
        "        for line in reader:\n",
        "            text_list.append(line['text'])\n",
        "            if mode != 'test':\n",
        "                label_list.append(int(line['sentiment_label']))\n",
        "\n",
        "    return text_list, label_list"
      ]
    },
    {
      "cell_type": "code",
      "execution_count": 23,
      "metadata": {
        "id": "6fpY0ZrK7rIV"
      },
      "outputs": [],
      "source": [
        "import os\n",
        "import csv\n",
        "import torch\n",
        "from torch.utils.data import Dataset, DataLoader\n",
        "class TwitterDataset(Dataset):\n",
        "    def __init__(self, f_name='./twitter_sentiment', mode='train'):\n",
        "        self.mode = mode\n",
        "        \n",
        "        text_list, label_list = get_texts(f_name, mode)\n",
        "        print('mode', mode, 'has', len(text_list), 'datas')\n",
        "        text_list = tokenizer(text_list,\n",
        "                             truncation=True, padding=True,\n",
        "                             return_tensors='pt')\n",
        "\n",
        "        self.text_list = text_list['input_ids']\n",
        "        self.mask_list = text_list['attention_mask']\n",
        "\n",
        "        self.label_list = label_list\n",
        "    \n",
        "    def __getitem__(self, idx):\n",
        "        text = torch.tensor(self.text_list[idx])\n",
        "        mask = torch.tensor(self.mask_list[idx])\n",
        "        if self.mode == 'test':\n",
        "            return text, mask\n",
        "        label = torch.tensor(self.label_list[idx])\n",
        "        return text, mask, label\n",
        "\n",
        "    def __len__(self):\n",
        "        return len(self.text_list)"
      ]
    },
    {
      "cell_type": "code",
      "execution_count": 24,
      "metadata": {
        "colab": {
          "base_uri": "https://localhost:8080/"
        },
        "id": "nCmM4FSw7rIW",
        "outputId": "1643eaca-2aac-4b54-b249-bab8573bbedf"
      },
      "outputs": [
        {
          "name": "stdout",
          "output_type": "stream",
          "text": [
            "mode train has 10248 datas\n",
            "mode val has 1464 datas\n",
            "mode test has 2928 datas\n"
          ]
        }
      ],
      "source": [
        "dataset_train = TwitterDataset(mode='train')\n",
        "dataset_val = TwitterDataset(mode='val')\n",
        "dataset_test = TwitterDataset(mode='test')\n",
        "\n",
        "batch_size = 64\n",
        "train_data = DataLoader(dataset_train, batch_size=batch_size,\n",
        "                       shuffle=True)\n",
        "val_data = DataLoader(dataset_val, batch_size=batch_size // 2,\n",
        "                       shuffle=False)\n",
        "test_data = DataLoader(dataset_test, batch_size=batch_size // 2,\n",
        "                       shuffle=False)"
      ]
    },
    {
      "cell_type": "code",
      "execution_count": 25,
      "metadata": {
        "colab": {
          "base_uri": "https://localhost:8080/"
        },
        "id": "bqkvofHc7rIY",
        "outputId": "8d21caa4-043d-4143-dae3-145737d17446"
      },
      "outputs": [
        {
          "name": "stdout",
          "output_type": "stream",
          "text": [
            "token ['[CLS]', '@', 'united', 'sat', 'at', 'airport', 'for', '5', 'hr', '##s', 'still', 'sitting', 'at', 'gate', '.', '.', 'sigh', '[SEP]', '[PAD]', '[PAD]', '[PAD]', '[PAD]', '[PAD]', '[PAD]', '[PAD]', '[PAD]', '[PAD]', '[PAD]', '[PAD]', '[PAD]', '[PAD]', '[PAD]', '[PAD]', '[PAD]', '[PAD]', '[PAD]', '[PAD]', '[PAD]', '[PAD]', '[PAD]', '[PAD]', '[PAD]', '[PAD]', '[PAD]', '[PAD]', '[PAD]', '[PAD]', '[PAD]', '[PAD]', '[PAD]', '[PAD]', '[PAD]', '[PAD]', '[PAD]', '[PAD]', '[PAD]', '[PAD]', '[PAD]', '[PAD]', '[PAD]', '[PAD]', '[PAD]', '[PAD]', '[PAD]', '[PAD]', '[PAD]', '[PAD]']\n",
            "token to s [CLS] @ united sat at airport for 5 hrs still sitting at gate . . sigh [SEP] [PAD] [PAD] [PAD] [PAD] [PAD] [PAD] [PAD] [PAD] [PAD] [PAD] [PAD] [PAD] [PAD] [PAD] [PAD] [PAD] [PAD] [PAD] [PAD] [PAD] [PAD] [PAD] [PAD] [PAD] [PAD] [PAD] [PAD] [PAD] [PAD] [PAD] [PAD] [PAD] [PAD] [PAD] [PAD] [PAD] [PAD] [PAD] [PAD] [PAD] [PAD] [PAD] [PAD] [PAD] [PAD] [PAD] [PAD] [PAD] [PAD]\n"
          ]
        },
        {
          "name": "stderr",
          "output_type": "stream",
          "text": [
            "/usr/local/lib/python3.7/dist-packages/ipykernel_launcher.py:21: UserWarning: To copy construct from a tensor, it is recommended to use sourceTensor.clone().detach() or sourceTensor.clone().detach().requires_grad_(True), rather than torch.tensor(sourceTensor).\n",
            "/usr/local/lib/python3.7/dist-packages/ipykernel_launcher.py:22: UserWarning: To copy construct from a tensor, it is recommended to use sourceTensor.clone().detach() or sourceTensor.clone().detach().requires_grad_(True), rather than torch.tensor(sourceTensor).\n"
          ]
        }
      ],
      "source": [
        "t = tokenizer.convert_ids_to_tokens(dataset_train[0][0])\n",
        "print('token', t)\n",
        "print('token to s', tokenizer.convert_tokens_to_string(t))"
      ]
    },
    {
      "cell_type": "code",
      "execution_count": 26,
      "metadata": {
        "id": "DxZrfCqW7rIY"
      },
      "outputs": [],
      "source": [
        "device = torch.device('cuda')\n",
        "\n",
        "from torch import nn\n",
        "from transformers import AdamW\n",
        "\n",
        "optimizer = AdamW(model.parameters(), lr=2e-5)\n",
        "criterion = nn.CrossEntropyLoss()\n",
        "\n",
        "model = model.to(device)\n",
        "criterion = criterion.to(device)"
      ]
    },
    {
      "cell_type": "markdown",
      "metadata": {
        "id": "UpwgE2Gd7rIZ"
      },
      "source": [
        "## Utility Function"
      ]
    },
    {
      "cell_type": "code",
      "execution_count": 27,
      "metadata": {
        "id": "SvggzcQaG77x"
      },
      "outputs": [],
      "source": [
        "def accuracy(raw_preds, y):\n",
        "    preds = raw_preds.argmax(dim=1)\n",
        "    acc = (preds == y).sum()\n",
        "    return acc"
      ]
    },
    {
      "cell_type": "code",
      "execution_count": 28,
      "metadata": {
        "id": "dmc_Gms97rIa"
      },
      "outputs": [],
      "source": [
        "from tqdm import tqdm\n",
        "import matplotlib.pyplot as plt\n",
        "\n",
        "train_loss_list = []\n",
        "val_loss_list = []\n",
        "\n",
        "def train(model, data, optimizer, criterion):\n",
        "    model.train()\n",
        "    \n",
        "    epoch_loss = 0\n",
        "    epoch_acc = 0\n",
        "    total = 0\n",
        "    acc = 0\n",
        "    for text, mask, label in tqdm(data, total=len(data)):\n",
        "        text = text.to(device)\n",
        "        mask = mask.to(device)\n",
        "        label = label.to(device)\n",
        "        \n",
        "        # Testing\n",
        "        optimizer.zero_grad()  \n",
        "        outputs = model(text, mask)\n",
        "        pred = outputs.logits\n",
        "        loss = criterion(pred, label)\n",
        "        acc = accuracy(pred, label)\n",
        "\n",
        "      \n",
        "        loss.backward()\n",
        "        optimizer.step()\n",
        "        \n",
        "        epoch_loss += loss.item()\n",
        "        train_loss_list.append(loss.item())\n",
        "        epoch_acc += acc.item()\n",
        "        total += len(text)\n",
        "    return epoch_loss / total, epoch_acc / total\n",
        "\n",
        "def test(model, data, criterion, log_loss=False):\n",
        "    model.eval()\n",
        "    \n",
        "    epoch_loss = 0\n",
        "    epoch_acc = 0\n",
        "    total = 0\n",
        "    acc = 0\n",
        "    for text, mask, label in tqdm(data, total=len(data)):\n",
        "        text = text.to(device)\n",
        "        mask = mask.to(device)\n",
        "        label = label.to(device)\n",
        "\n",
        "        # Training\n",
        "        outputs = model(text, mask)\n",
        "        pred = outputs.logits\n",
        "        loss = criterion(pred, label)\n",
        "        acc = accuracy(pred, label)\n",
        "\n",
        "\n",
        "        epoch_loss += loss.item()\n",
        "        if log_loss:\n",
        "            val_loss_list.append(loss.item())\n",
        "        epoch_acc += acc.item()\n",
        "        total += len(text)\n",
        "    return epoch_loss / total, epoch_acc / total\n",
        "\n",
        "# Monitoring train and test acc/loss\n",
        "class Meter:\n",
        "    def __init__(self):\n",
        "        self.train_loss_list = []\n",
        "        self.train_acc_list = []\n",
        "        self.val_loss_list = []\n",
        "        self.val_acc_list = []\n",
        "    \n",
        "    def update(self, train_loss, train_acc, val_loss, val_acc):\n",
        "        self.train_loss_list.append(train_loss)\n",
        "        self.train_acc_list.append(train_acc)\n",
        "        self.val_loss_list.append(val_loss)\n",
        "        self.val_acc_list.append(val_acc)\n",
        "    \n",
        "    def plot(self):\n",
        "        x = range(len(self.train_loss_list))\n",
        "        plt.plot(x, self.train_loss_list)\n",
        "        plt.plot(x, self.val_loss_list, color='r')\n",
        "        plt.legend(['train_loss', 'val_loss'])\n",
        "        plt.show()\n",
        "        plt.plot(x, self.train_acc_list)\n",
        "        plt.plot(x, self.val_acc_list, color='r')\n",
        "        plt.legend(['train_acc', 'val_acc'])\n",
        "        plt.show()"
      ]
    },
    {
      "cell_type": "markdown",
      "metadata": {
        "id": "ExZyrKd57rIb"
      },
      "source": [
        "## Start Training"
      ]
    },
    {
      "cell_type": "code",
      "execution_count": 35,
      "metadata": {
        "colab": {
          "base_uri": "https://localhost:8080/"
        },
        "id": "bVDe-fRe7rIc",
        "outputId": "3d45e556-b9a5-446a-dfc0-eac8d607658c"
      },
      "outputs": [
        {
          "name": "stderr",
          "output_type": "stream",
          "text": [
            "\r  0%|          | 0/161 [00:00<?, ?it/s]/usr/local/lib/python3.7/dist-packages/ipykernel_launcher.py:21: UserWarning: To copy construct from a tensor, it is recommended to use sourceTensor.clone().detach() or sourceTensor.clone().detach().requires_grad_(True), rather than torch.tensor(sourceTensor).\n",
            "/usr/local/lib/python3.7/dist-packages/ipykernel_launcher.py:22: UserWarning: To copy construct from a tensor, it is recommended to use sourceTensor.clone().detach() or sourceTensor.clone().detach().requires_grad_(True), rather than torch.tensor(sourceTensor).\n",
            "100%|██████████| 161/161 [03:22<00:00,  1.26s/it]\n",
            "100%|██████████| 46/46 [00:09<00:00,  4.73it/s]\n"
          ]
        },
        {
          "name": "stdout",
          "output_type": "stream",
          "text": [
            "Epoch 1 train_loss: 0.0009445083953925844 train_acc: 0.9830210772833724\n",
            "Epoch 1 val_loss:  0.02213504549136253 val_acc : 0.825136612021858\n",
            "---------- e 1 save best model ----------\n"
          ]
        }
      ],
      "source": [
        "#Hyper-parameters\n",
        "max_epoch = 1\n",
        "log_interval = 1\n",
        "best_acc = 0\n",
        "\n",
        "\n",
        "m = Meter()\n",
        "\n",
        "for epoch in range(1, max_epoch + 1):\n",
        "    train_loss, train_acc = train(model, train_data, optimizer, criterion)\n",
        "    val_loss, val_acc = test(model, val_data, criterion, log_loss=True)\n",
        "    \n",
        "    if epoch % log_interval == 0:\n",
        "        print('Epoch {} train_loss: {} train_acc: {}'.format(\n",
        "            epoch, train_loss, train_acc\n",
        "        ))\n",
        "        print('Epoch {} val_loss:  {} val_acc : {}'.format(\n",
        "            epoch, val_loss, val_acc\n",
        "        ))\n",
        "    \n",
        "    m.update(train_loss, train_acc, val_loss, val_acc)\n",
        "    \n",
        "    # model checkpoint\n",
        "    torch.save(model.state_dict(), 'ckpts/e{}.pt'.format(epoch))\n",
        "    if val_acc > best_acc:\n",
        "        best_model = model\n",
        "        best_acc = val_acc\n",
        "        print('-'*10, 'e', epoch, 'save best model', '-'*10)"
      ]
    },
    {
      "cell_type": "code",
      "execution_count": 33,
      "metadata": {
        "colab": {
          "base_uri": "https://localhost:8080/",
          "height": 513
        },
        "id": "SmtW58OR7rIc",
        "outputId": "f32d4e80-28dd-4170-d3eb-edf3978f9fe1"
      },
      "outputs": [
        {
          "data": {
            "image/png": "[encoded data removed]",
            "text/plain": [
              "<Figure size 432x288 with 1 Axes>"
            ]
          },
          "metadata": {
            "needs_background": "light"
          },
          "output_type": "display_data"
        },
        {
          "data": {
            "image/png": "[encoded data removed]",
            "text/plain": [
              "<Figure size 432x288 with 1 Axes>"
            ]
          },
          "metadata": {
            "needs_background": "light"
          },
          "output_type": "display_data"
        }
      ],
      "source": [
        "m.plot()"
      ]
    },
    {
      "cell_type": "markdown",
      "metadata": {
        "id": "YcJcHf7n7rId"
      },
      "source": [
        "## Prediction"
      ]
    },
    {
      "cell_type": "code",
      "execution_count": 31,
      "metadata": {
        "colab": {
          "base_uri": "https://localhost:8080/"
        },
        "id": "Sf5UTlMZ7rId",
        "outputId": "155f4002-00a8-4a2b-f6a2-75a5d25542ba"
      },
      "outputs": [
        {
          "name": "stderr",
          "output_type": "stream",
          "text": [
            "\r  0%|          | 0/92 [00:00<?, ?it/s]/usr/local/lib/python3.7/dist-packages/ipykernel_launcher.py:21: UserWarning: To copy construct from a tensor, it is recommended to use sourceTensor.clone().detach() or sourceTensor.clone().detach().requires_grad_(True), rather than torch.tensor(sourceTensor).\n",
            "/usr/local/lib/python3.7/dist-packages/ipykernel_launcher.py:22: UserWarning: To copy construct from a tensor, it is recommended to use sourceTensor.clone().detach() or sourceTensor.clone().detach().requires_grad_(True), rather than torch.tensor(sourceTensor).\n",
            "100%|██████████| 92/92 [00:19<00:00,  4.62it/s]\n"
          ]
        }
      ],
      "source": [
        "best_model.eval()\n",
        "\n",
        "total_out = []\n",
        "for text, mask in tqdm(test_data, total=len(test_data)):\n",
        "    text = text.to(device)\n",
        "    mask = mask.to(device)\n",
        "\n",
        "    output = best_model(text, mask)\n",
        "    pred = output.logits\n",
        "    pred = torch.argmax(pred, dim=1)\n",
        "    total_out.append(pred)\n",
        "\n",
        "total_out = torch.cat(total_out).cpu().numpy().tolist()\n",
        "\n",
        "with open('pred.csv', 'w') as f:\n",
        "    f.write('index,sentiment_label\\n')\n",
        "    for i, pred in enumerate(total_out):\n",
        "        f.write('{},{}\\n'.format(i, pred))"
      ]
    }
  ],
  "metadata": {
    "accelerator": "GPU",
    "colab": {
      "collapsed_sections": [],
      "name": "assignment7.ipynb",
      "provenance": []
    },
    "kernelspec": {
      "display_name": "Python 3",
      "name": "python3"
    },
    "language_info": {
      "name": "python"
    }
  },
  "nbformat": 4,
  "nbformat_minor": 0
}
